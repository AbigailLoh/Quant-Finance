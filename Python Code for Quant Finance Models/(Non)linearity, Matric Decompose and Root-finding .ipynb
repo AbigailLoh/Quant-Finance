{
 "cells": [
  {
   "cell_type": "markdown",
   "metadata": {},
   "source": [
    "## Linearity"
   ]
  },
  {
   "cell_type": "code",
   "execution_count": 1,
   "metadata": {},
   "outputs": [],
   "source": [
    "from scipy import stats\n",
    "stock_returns=[0.065,0.0265,-0.0593,-0.001,0.0346]\n",
    "mkt_returns=[0.055,-0.09,-0.041,0.045,0.022]\n",
    "beta,alpha,r_value,p_value,std_err=stats.linregress(stock_returns,mkt_returns)"
   ]
  },
  {
   "cell_type": "code",
   "execution_count": 2,
   "metadata": {},
   "outputs": [
    {
     "name": "stdout",
     "output_type": "stream",
     "text": [
      "0.5077431878770808 -0.008481900352462384\n"
     ]
    }
   ],
   "source": [
    "print(beta,alpha)"
   ]
  },
  {
   "cell_type": "markdown",
   "metadata": {},
   "source": [
    "## OLS"
   ]
  },
  {
   "cell_type": "code",
   "execution_count": 4,
   "metadata": {},
   "outputs": [],
   "source": [
    "## ols\n",
    "import numpy as np\n",
    "import statsmodels.api as sm\n",
    "num_periods=9\n",
    "all_values=np.array([np.random.random(8) for i in range(num_periods)])\n",
    "y_values=all_values[:,0]\n",
    "x_values=all_values[:,1:]\n",
    "x_values=sm.add_constant(x_values)\n",
    "results=sm.OLS(y_values,x_values).fit()"
   ]
  },
  {
   "cell_type": "code",
   "execution_count": 5,
   "metadata": {},
   "outputs": [
    {
     "name": "stdout",
     "output_type": "stream",
     "text": [
      "                            OLS Regression Results                            \n",
      "==============================================================================\n",
      "Dep. Variable:                      y   R-squared:                       0.925\n",
      "Model:                            OLS   Adj. R-squared:                  0.398\n",
      "Method:                 Least Squares   F-statistic:                     1.756\n",
      "Date:                Sat, 20 Feb 2021   Prob (F-statistic):              0.525\n",
      "Time:                        15:54:33   Log-Likelihood:                 11.309\n",
      "No. Observations:                   9   AIC:                            -6.619\n",
      "Df Residuals:                       1   BIC:                            -5.041\n",
      "Df Model:                           7                                         \n",
      "Covariance Type:            nonrobust                                         \n",
      "==============================================================================\n",
      "                 coef    std err          t      P>|t|      [0.025      0.975]\n",
      "------------------------------------------------------------------------------\n",
      "const         -3.1475      1.900     -1.656      0.346     -27.294      20.999\n",
      "x1            -0.0703      0.972     -0.072      0.954     -12.423      12.283\n",
      "x2             3.0670      2.635      1.164      0.452     -30.419      36.553\n",
      "x3             0.3813      0.704      0.542      0.684      -8.561       9.323\n",
      "x4             2.2591      1.545      1.463      0.382     -17.366      21.884\n",
      "x5             0.4511      0.973      0.463      0.724     -11.918      12.820\n",
      "x6             0.4867      0.453      1.074      0.477      -5.274       6.247\n",
      "x7             2.4128      1.901      1.269      0.425     -21.739      26.564\n",
      "==============================================================================\n",
      "Omnibus:                        0.406   Durbin-Watson:                   1.822\n",
      "Prob(Omnibus):                  0.816   Jarque-Bera (JB):                0.451\n",
      "Skew:                          -0.010   Prob(JB):                        0.798\n",
      "Kurtosis:                       1.904   Cond. No.                         98.6\n",
      "==============================================================================\n",
      "\n",
      "Notes:\n",
      "[1] Standard Errors assume that the covariance matrix of the errors is correctly specified.\n"
     ]
    },
    {
     "name": "stderr",
     "output_type": "stream",
     "text": [
      "C:\\Users\\16469\\anaconda3\\lib\\site-packages\\scipy\\stats\\stats.py:1603: UserWarning: kurtosistest only valid for n>=20 ... continuing anyway, n=9\n",
      "  warnings.warn(\"kurtosistest only valid for n>=20 ... continuing \"\n"
     ]
    }
   ],
   "source": [
    "print(results.summary())"
   ]
  },
  {
   "cell_type": "code",
   "execution_count": 6,
   "metadata": {},
   "outputs": [
    {
     "name": "stdout",
     "output_type": "stream",
     "text": [
      "[-3.14746448 -0.07028753  3.06702871  0.38126497  2.25910553  0.45111968\n",
      "  0.48668399  2.41276872]\n"
     ]
    }
   ],
   "source": [
    "print(results.params)"
   ]
  },
  {
   "cell_type": "code",
   "execution_count": 7,
   "metadata": {},
   "outputs": [
    {
     "name": "stderr",
     "output_type": "stream",
     "text": [
      "C:\\Users\\16469\\anaconda3\\lib\\site-packages\\pulp\\pulp.py:1199: UserWarning: Spaces are not permitted in the name. Converted to '_'\n",
      "  warnings.warn(\"Spaces are not permitted in the name. Converted to '_'\")\n"
     ]
    },
    {
     "data": {
      "text/plain": [
       "1"
      ]
     },
     "execution_count": 7,
     "metadata": {},
     "output_type": "execute_result"
    }
   ],
   "source": [
    "import pulp\n",
    "x=pulp.LpVariable('x',lowBound=0)\n",
    "y=pulp.LpVariable('y',lowBound=0)\n",
    "problem=pulp.LpProblem('A simple max opjective',pulp.LpMaximize)\n",
    "problem+=3*x+2*y,'objective function'\n",
    "problem+=2*x+y<=100,'1st constraint'\n",
    "problem+=x+y<=80,'2nd constraint'\n",
    "problem+=x<=40,'3rd constraint'\n",
    "problem.solve()"
   ]
  },
  {
   "cell_type": "code",
   "execution_count": 8,
   "metadata": {},
   "outputs": [
    {
     "name": "stdout",
     "output_type": "stream",
     "text": [
      "Max Results:\n",
      "x = 20.0\n",
      "y = 60.0\n"
     ]
    }
   ],
   "source": [
    "print('Max Results:')\n",
    "for variable in problem.variables():\n",
    "    print(variable.name,'=',variable.varValue)"
   ]
  },
  {
   "cell_type": "code",
   "execution_count": 9,
   "metadata": {},
   "outputs": [
    {
     "data": {
      "text/plain": [
       "1"
      ]
     },
     "execution_count": 9,
     "metadata": {},
     "output_type": "execute_result"
    }
   ],
   "source": [
    "import pulp\n",
    "dealers=['X','Y','Z']\n",
    "variable_costs={'X':500,'Y':350,'Z':450}\n",
    "fixed_costs={'X':4000,'Y':2000,'Z':6000}\n",
    "quantities=pulp.LpVariable.dicts('quantity',dealers,lowBound=0,cat=pulp.LpInteger)\n",
    "is_orders=pulp.LpVariable.dicts('orders',dealers,cat=pulp.LpBinary)\n",
    "model=pulp.LpProblem('A min cost problem',pulp.LpMinimize)\n",
    "model+=sum([variable_costs[i]*quantities[i]+fixed_costs[i]*is_orders[i] for i in dealers]),'Min portfolio cost'\n",
    "model+=sum([quantities[i] for i in dealers])==150,'Total contracts required'\n",
    "model+=is_orders['X']*30<=quantities['X']<=is_orders['X']*100,'Boundary of X'\n",
    "model+=is_orders['Y']*30<=quantities['Y']<=is_orders['Y']*90,'Boundary of Y'\n",
    "model+=is_orders['Z']*30<=quantities['Z']<=is_orders['Z']*70,'Boundary of Z'\n",
    "model.solve()"
   ]
  },
  {
   "cell_type": "code",
   "execution_count": 10,
   "metadata": {},
   "outputs": [
    {
     "name": "stdout",
     "output_type": "stream",
     "text": [
      "Min results:\n",
      "orders_X = 0.0\n",
      "orders_Y = 1.0\n",
      "orders_Z = 1.0\n",
      "quantity_X = 0.0\n",
      "quantity_Y = 90.0\n",
      "quantity_Z = 60.0\n",
      "Total cost: 66500.0\n"
     ]
    }
   ],
   "source": [
    "print(\"Min results:\")\n",
    "for variable in model.variables():\n",
    "    print(variable,'=',variable.varValue)\n",
    "print('Total cost:',pulp.value(model.objective))"
   ]
  },
  {
   "cell_type": "code",
   "execution_count": 12,
   "metadata": {},
   "outputs": [
    {
     "name": "stdout",
     "output_type": "stream",
     "text": [
      "[  6.  15. -23.]\n"
     ]
    }
   ],
   "source": [
    "import numpy as np\n",
    "A=np.array([[2,1,1],[1,3,2],[1,0,0]])\n",
    "B=np.array([4,5,6])\n",
    "print(np.linalg.solve(A,B))"
   ]
  },
  {
   "cell_type": "markdown",
   "metadata": {},
   "source": [
    "## LU"
   ]
  },
  {
   "cell_type": "code",
   "execution_count": 13,
   "metadata": {},
   "outputs": [
    {
     "name": "stdout",
     "output_type": "stream",
     "text": [
      "[  6.  15. -23.]\n"
     ]
    }
   ],
   "source": [
    "## LU\n",
    "import scipy.linalg as linalg\n",
    "A=np.array([[2,1,1],[1,3,2],[1,0,0]])\n",
    "B=np.array([4,5,6])\n",
    "LU=linalg.lu_factor(A)\n",
    "x=linalg.lu_solve(LU, B)\n",
    "print(x)"
   ]
  },
  {
   "cell_type": "code",
   "execution_count": 23,
   "metadata": {},
   "outputs": [
    {
     "name": "stdout",
     "output_type": "stream",
     "text": [
      "P=\n",
      " [[1. 0. 0.]\n",
      " [0. 1. 0.]\n",
      " [0. 0. 1.]]\n",
      "L=\n",
      " [[ 1.   0.   0. ]\n",
      " [ 0.5  1.   0. ]\n",
      " [ 0.5 -0.2  1. ]]\n",
      "U=\n",
      " [[ 2.   1.   1. ]\n",
      " [ 0.   2.5  1.5]\n",
      " [ 0.   0.  -0.2]]\n"
     ]
    }
   ],
   "source": [
    "import scipy\n",
    "A=np.array([[2,1,1],[1,3,2],[1,0,0]])\n",
    "P,L,U=scipy.linalg.lu(A)\n",
    "print('P=\\n',P)\n",
    "print('L=\\n',L)\n",
    "print('U=\\n',U)"
   ]
  },
  {
   "cell_type": "markdown",
   "metadata": {},
   "source": [
    "## Cholesky"
   ]
  },
  {
   "cell_type": "code",
   "execution_count": 24,
   "metadata": {},
   "outputs": [],
   "source": [
    "## Cholesky\n",
    "A=np.array([\n",
    "    [10,-1,2,0],\n",
    "    [-1,11,-1,3],\n",
    "    [2,-1,10,-1],\n",
    "    [0,3,-1,8]\n",
    "])\n",
    "B=np.array([6,25,-11,15])\n",
    "L=np.linalg.cholesky(A)"
   ]
  },
  {
   "cell_type": "code",
   "execution_count": 25,
   "metadata": {},
   "outputs": [
    {
     "name": "stdout",
     "output_type": "stream",
     "text": [
      "[[ 3.16227766  0.          0.          0.        ]\n",
      " [-0.31622777  3.3015148   0.          0.        ]\n",
      " [ 0.63245553 -0.24231301  3.08889696  0.        ]\n",
      " [ 0.          0.9086738  -0.25245792  2.6665665 ]]\n"
     ]
    }
   ],
   "source": [
    "print(L)"
   ]
  },
  {
   "cell_type": "code",
   "execution_count": 26,
   "metadata": {},
   "outputs": [
    {
     "name": "stdout",
     "output_type": "stream",
     "text": [
      "[[10. -1.  2.  0.]\n",
      " [-1. 11. -1.  3.]\n",
      " [ 2. -1. 10. -1.]\n",
      " [ 0.  3. -1.  8.]]\n"
     ]
    }
   ],
   "source": [
    "print(np.dot(L,L.T.conj())) \n"
   ]
  },
  {
   "cell_type": "code",
   "execution_count": 27,
   "metadata": {},
   "outputs": [],
   "source": [
    "y=np.linalg.solve(L,B)"
   ]
  },
  {
   "cell_type": "code",
   "execution_count": 28,
   "metadata": {},
   "outputs": [
    {
     "name": "stdout",
     "output_type": "stream",
     "text": [
      "[ 1.  2. -1.  1.]\n"
     ]
    }
   ],
   "source": [
    "x=np.linalg.solve(L.T.conj(),y)\n",
    "print(x)"
   ]
  },
  {
   "cell_type": "code",
   "execution_count": 29,
   "metadata": {},
   "outputs": [
    {
     "name": "stdout",
     "output_type": "stream",
     "text": [
      "[[  6.]\n",
      " [ 25.]\n",
      " [-11.]\n",
      " [ 15.]]\n"
     ]
    }
   ],
   "source": [
    "print(np.mat(A)*np.mat(x).T)"
   ]
  },
  {
   "cell_type": "markdown",
   "metadata": {},
   "source": [
    "## QR"
   ]
  },
  {
   "cell_type": "code",
   "execution_count": 30,
   "metadata": {},
   "outputs": [
    {
     "name": "stdout",
     "output_type": "stream",
     "text": [
      "[  6.  15. -23.]\n"
     ]
    }
   ],
   "source": [
    "## QR\n",
    "A=np.array([\n",
    "    [2,1,1],\n",
    "    [1,3,2],\n",
    "    [1,0,0]\n",
    "])\n",
    "B=np.array([4,5,6])\n",
    "Q,R=scipy.linalg.qr(A)\n",
    "y=np.dot(Q.T,B)\n",
    "x=scipy.linalg.solve(R,y)\n",
    "print(x)"
   ]
  },
  {
   "cell_type": "markdown",
   "metadata": {},
   "source": [
    "## Jacobi"
   ]
  },
  {
   "cell_type": "code",
   "execution_count": 32,
   "metadata": {},
   "outputs": [],
   "source": [
    "## Jacobi\n",
    "def jacobi(A,B,n,tol=1e-10):\n",
    "    x=np.zeros_like(B)\n",
    "    for iter_count in range(n):\n",
    "        x_new=np.zeros_like(x)\n",
    "        for i in range(A.shape[0]):\n",
    "            s1=np.dot(A[i,:i],x[:i])  ##lower\n",
    "            s2=np.dot(A[i,i+1:],x[i+1:]) ##upper\n",
    "            x_new[i]=(B[i]-s1-s2)/A[i,i]\n",
    "        if np.allclose(x,x_new,tol):\n",
    "            break\n",
    "        x=x_new\n",
    "    return x"
   ]
  },
  {
   "cell_type": "code",
   "execution_count": 33,
   "metadata": {},
   "outputs": [],
   "source": [
    "A=np.array([\n",
    "    [10,-1,2,0],\n",
    "    [-1,11,-1,3],\n",
    "    [2,-1,10,-1],\n",
    "    [0,3,-1,8]\n",
    "])\n",
    "B=np.array([6,25,-11,15])\n",
    "n=25"
   ]
  },
  {
   "cell_type": "code",
   "execution_count": 34,
   "metadata": {},
   "outputs": [
    {
     "name": "stdout",
     "output_type": "stream",
     "text": [
      "x = [ 0  2 -1  1]\n"
     ]
    }
   ],
   "source": [
    "x=jacobi(A,B,n)\n",
    "print('x','=',x)"
   ]
  },
  {
   "cell_type": "markdown",
   "metadata": {},
   "source": [
    "## Gauss-Seidel"
   ]
  },
  {
   "cell_type": "code",
   "execution_count": 61,
   "metadata": {},
   "outputs": [],
   "source": [
    "## Gauss-Seidel\n",
    "def gauss(A,B,n,tol=1e-10):\n",
    "    L=np.tril(A)\n",
    "    U=A-L\n",
    "    L_inv=np.linalg.inv(L) # compute inverse \n",
    "    x=np.zeros_like(B)\n",
    "    \n",
    "    for i in range(n):\n",
    "        Ux=np.dot(U, x)\n",
    "        x_new=np.dot(L_inv, B-Ux)\n",
    "        if np.allclose(x,x_new,tol):\n",
    "            break\n",
    "        x=x_new\n",
    "    return x"
   ]
  },
  {
   "cell_type": "code",
   "execution_count": 62,
   "metadata": {},
   "outputs": [],
   "source": [
    "n=100\n",
    "A=np.array([\n",
    "    [10,-1,2,0],\n",
    "    [-1,11,-1,3],\n",
    "    [2,-1,10,-1],\n",
    "    [0,3,-1,8]\n",
    "])\n",
    "B=np.array([6,25,-11,15])\n",
    "x=gauss(A,B,n)"
   ]
  },
  {
   "cell_type": "code",
   "execution_count": 63,
   "metadata": {},
   "outputs": [
    {
     "name": "stdout",
     "output_type": "stream",
     "text": [
      "x = [ 1.  2. -1.  1.]\n"
     ]
    }
   ],
   "source": [
    "print('x','=',x)"
   ]
  },
  {
   "cell_type": "markdown",
   "metadata": {},
   "source": [
    "## Nonlinearity: Root-finding"
   ]
  },
  {
   "cell_type": "code",
   "execution_count": 65,
   "metadata": {},
   "outputs": [],
   "source": [
    "## incremental search\n",
    "def incremental_search(func,a,b,dx):\n",
    "    fa=func(a)\n",
    "    c=a+dx\n",
    "    fc=func(c)\n",
    "    n=1\n",
    "    while np.sign(fa)==np.sign(fc):\n",
    "        if a>=b:\n",
    "            return a-dx,n\n",
    "        a=c\n",
    "        fa=fc\n",
    "        c=a+dx\n",
    "        fc=func(c)\n",
    "        n+=1\n",
    "    if fa==0:\n",
    "        return a,n\n",
    "    elif fc==0:\n",
    "        return c,n\n",
    "    else:\n",
    "        return (a+c)/2,n"
   ]
  },
  {
   "cell_type": "code",
   "execution_count": 66,
   "metadata": {},
   "outputs": [
    {
     "name": "stdout",
     "output_type": "stream",
     "text": [
      "Root is: 1.2414999999999783\n",
      "Iterations: 6242\n"
     ]
    }
   ],
   "source": [
    "y=lambda x:x**3+2*x**2-5\n",
    "root,iterations=incremental_search(y,-5,5,0.001)\n",
    "print('Root is:',root)\n",
    "print('Iterations:',iterations)"
   ]
  },
  {
   "cell_type": "markdown",
   "metadata": {},
   "source": [
    "## Bisection"
   ]
  },
  {
   "cell_type": "code",
   "execution_count": 67,
   "metadata": {},
   "outputs": [],
   "source": [
    "## bisection\n",
    "def bisection(func,a,b,tol=0.1,maxiter=10):\n",
    "    c=(a+b)/2\n",
    "    n=1\n",
    "    while n<=maxiter:\n",
    "        c=(a+b)/2\n",
    "        if func(c)==0 or abs(a-b)/2<tol:\n",
    "            return c,n\n",
    "        n+=1\n",
    "        if func(c)<0:\n",
    "            a=c\n",
    "        else:\n",
    "            b=c\n",
    "    return c,n"
   ]
  },
  {
   "cell_type": "code",
   "execution_count": 68,
   "metadata": {},
   "outputs": [
    {
     "name": "stdout",
     "output_type": "stream",
     "text": [
      "Root is: 1.241903305053711\n",
      "Iterations: 20\n"
     ]
    }
   ],
   "source": [
    "y=lambda x:x**3+2*x**2-5\n",
    "root,iterations=bisection(y,-5,5,0.00001,100)\n",
    "print('Root is:',root)\n",
    "print('Iterations:',iterations)"
   ]
  },
  {
   "cell_type": "markdown",
   "metadata": {},
   "source": [
    "## Newton's"
   ]
  },
  {
   "cell_type": "code",
   "execution_count": 69,
   "metadata": {},
   "outputs": [],
   "source": [
    "## Newton's\n",
    "def newton(func,df,x,tol=0.001,maxiter=100):\n",
    "    n=1\n",
    "    while n<=maxiter:\n",
    "        x1=x-func(x)/df(x)\n",
    "        if abs(x1-x)<tol:\n",
    "            return x1,n\n",
    "        x=x1\n",
    "        n+=1\n",
    "    return None,n"
   ]
  },
  {
   "cell_type": "code",
   "execution_count": 70,
   "metadata": {},
   "outputs": [
    {
     "name": "stdout",
     "output_type": "stream",
     "text": [
      "Root is: 1.241896563034502\n",
      "Iterations: 7\n"
     ]
    }
   ],
   "source": [
    "y=lambda x:x**3+2*x**2-5\n",
    "dy=lambda x:3*x**2+4*x\n",
    "root,iterations=newton(y,dy,5,0.00001,100)\n",
    "print('Root is:',root)\n",
    "print('Iterations:',iterations)"
   ]
  },
  {
   "cell_type": "markdown",
   "metadata": {},
   "source": [
    "## Secant"
   ]
  },
  {
   "cell_type": "code",
   "execution_count": 71,
   "metadata": {},
   "outputs": [],
   "source": [
    "## secant\n",
    "def secant(func,a,b,tol=0.001,maxiter=100):\n",
    "    n=1\n",
    "    while n<=maxiter:\n",
    "        c=b-func(b)*((b-a)/(func(b)-func(a)))\n",
    "        if abs(c-b)<=tol:\n",
    "            return c,n\n",
    "        a=b\n",
    "        b=c\n",
    "        n+=1\n",
    "    return None,n"
   ]
  },
  {
   "cell_type": "code",
   "execution_count": 72,
   "metadata": {},
   "outputs": [
    {
     "name": "stdout",
     "output_type": "stream",
     "text": [
      "Root is: 1.2418965622558549\n",
      "Iterations: 14\n"
     ]
    }
   ],
   "source": [
    "y=lambda x:x**3+2*x**2-5\n",
    "root,iterations=secant(y,-5,5,0.00001,100)\n",
    "print('Root is:',root)\n",
    "print('Iterations:',iterations)"
   ]
  },
  {
   "cell_type": "markdown",
   "metadata": {},
   "source": [
    "## Scipy built-in root-finding"
   ]
  },
  {
   "cell_type": "code",
   "execution_count": 76,
   "metadata": {},
   "outputs": [
    {
     "name": "stdout",
     "output_type": "stream",
     "text": [
      "Bisection: 1.2418365478515625\n",
      "Newton: 1.2418965630344798\n",
      "Secant: 1.2418965630344803\n",
      "Brent 1.241896563034559\n"
     ]
    }
   ],
   "source": [
    "import scipy.optimize as optimize\n",
    "y=lambda x:x**3+2*x**2-5\n",
    "dy=lambda x:3*x**2+4*x\n",
    "\n",
    "print('Bisection:',optimize.bisect(y,-5,5,xtol=0.0001))\n",
    "print('Newton:',optimize.newton(y,5,fprime=dy))\n",
    "print('Secant:',optimize.newton(y,5))\n",
    "print('Brent',optimize.brentq(y,-5,5))"
   ]
  },
  {
   "cell_type": "markdown",
   "metadata": {},
   "source": [
    "## general solver"
   ]
  },
  {
   "cell_type": "code",
   "execution_count": 78,
   "metadata": {},
   "outputs": [
    {
     "name": "stdout",
     "output_type": "stream",
     "text": [
      "[1.24189656]\n"
     ]
    }
   ],
   "source": [
    "import scipy.optimize as optimize\n",
    "y=lambda x:x**3+2*x**2-5\n",
    "dy=lambda x:3*x**2+4*x\n",
    "print(optimize.fsolve(y,5,fprime=dy))"
   ]
  },
  {
   "cell_type": "code",
   "execution_count": 79,
   "metadata": {},
   "outputs": [
    {
     "name": "stdout",
     "output_type": "stream",
     "text": [
      "    fjac: array([[-1.]])\n",
      "     fun: array([3.55271368e-15])\n",
      " message: 'The solution converged.'\n",
      "    nfev: 12\n",
      "     qtf: array([-3.73605502e-09])\n",
      "       r: array([-9.59451815])\n",
      "  status: 1\n",
      " success: True\n",
      "       x: array([1.24189656])\n"
     ]
    }
   ],
   "source": [
    "print(optimize.root(y,5))"
   ]
  },
  {
   "cell_type": "code",
   "execution_count": 80,
   "metadata": {},
   "outputs": [
    {
     "name": "stdout",
     "output_type": "stream",
     "text": [
      "[-1.33306553]\n"
     ]
    },
    {
     "name": "stderr",
     "output_type": "stream",
     "text": [
      "C:\\Users\\16469\\anaconda3\\lib\\site-packages\\scipy\\optimize\\minpack.py:175: RuntimeWarning: The iteration is not making good progress, as measured by the \n",
      "  improvement from the last ten iterations.\n",
      "  warnings.warn(msg, RuntimeWarning)\n"
     ]
    }
   ],
   "source": [
    "print(optimize.fsolve(y,-5,fprime=dy))"
   ]
  },
  {
   "cell_type": "code",
   "execution_count": 81,
   "metadata": {},
   "outputs": [
    {
     "name": "stdout",
     "output_type": "stream",
     "text": [
      "    fjac: array([[-1.]])\n",
      "     fun: array([-3.81481496])\n",
      " message: 'The iteration is not making good progress, as measured by the \\n  improvement from the last ten iterations.'\n",
      "    nfev: 28\n",
      "     qtf: array([3.81481521])\n",
      "       r: array([-0.00461503])\n",
      "  status: 5\n",
      " success: False\n",
      "       x: array([-1.33306551])\n"
     ]
    }
   ],
   "source": [
    "print(optimize.root(y,-5))"
   ]
  },
  {
   "cell_type": "code",
   "execution_count": null,
   "metadata": {},
   "outputs": [],
   "source": []
  }
 ],
 "metadata": {
  "kernelspec": {
   "display_name": "Python 3",
   "language": "python",
   "name": "python3"
  },
  "language_info": {
   "codemirror_mode": {
    "name": "ipython",
    "version": 3
   },
   "file_extension": ".py",
   "mimetype": "text/x-python",
   "name": "python",
   "nbconvert_exporter": "python",
   "pygments_lexer": "ipython3",
   "version": "3.8.5"
  }
 },
 "nbformat": 4,
 "nbformat_minor": 4
}

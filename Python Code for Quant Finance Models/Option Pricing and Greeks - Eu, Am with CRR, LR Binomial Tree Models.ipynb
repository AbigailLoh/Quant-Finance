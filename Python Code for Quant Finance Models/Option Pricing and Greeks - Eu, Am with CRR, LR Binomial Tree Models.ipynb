{
 "cells": [
  {
   "cell_type": "markdown",
   "metadata": {},
   "source": [
    "## European and American"
   ]
  },
  {
   "cell_type": "code",
   "execution_count": 36,
   "metadata": {},
   "outputs": [
    {
     "name": "stdout",
     "output_type": "stream",
     "text": [
      "q is 0.6281777409400603\n"
     ]
    }
   ],
   "source": [
    "import math\n",
    "r=0.05\n",
    "T=2\n",
    "t=T/2\n",
    "u=1.2\n",
    "d=0.8\n",
    "\n",
    "q=(math.exp(r*t)-d)/(u-d)\n",
    "print('q is',q)"
   ]
  },
  {
   "cell_type": "markdown",
   "metadata": {},
   "source": [
    "## Store common attributes of a stock option"
   ]
  },
  {
   "cell_type": "code",
   "execution_count": 37,
   "metadata": {},
   "outputs": [],
   "source": [
    "## store common attributes of a stock option\n",
    "class StockOption(object):\n",
    "    def __init__(self,S0,K,r=0.05,T=1,N=2,pu=0,pd=0,div=0,sigma=0,is_put=False,is_am=False):\n",
    "        self.S0=S0\n",
    "        self.K=K\n",
    "        self.r=r\n",
    "        self.T=T\n",
    "        self.N=max(1,N)\n",
    "        self.STs=[] #stock price tree\n",
    "        \n",
    "        self.pu,self.pd=pu,pd\n",
    "        self.div=div\n",
    "        self.sigma=sigma\n",
    "        self.is_call=not is_put\n",
    "        self.is_european=not is_am\n",
    "        \n",
    "    @property\n",
    "    def dt(self):\n",
    "        return self.T/float(self.N) # single time strp, in years\n",
    "    @property\n",
    "    def df(self):\n",
    "        return math.exp(-(self.r-self.div)*self.dt) # discount factor\n",
    "        "
   ]
  },
  {
   "cell_type": "markdown",
   "metadata": {},
   "source": [
    "## EU Binomal Tree"
   ]
  },
  {
   "cell_type": "code",
   "execution_count": 38,
   "metadata": {},
   "outputs": [],
   "source": [
    "import math\n",
    "import numpy as np\n",
    "from decimal import Decimal\n",
    "\n",
    "class BinominalEuropeanOption(StockOption):\n",
    "    def setup_parameters(self):\n",
    "        # required calculations for the model\n",
    "        self.M=self.N+1 # number of terminal nodes for tree\n",
    "        self.u=1+self.pu\n",
    "        self.d=1-self.pd\n",
    "        self.qu=(math.exp(self.r-self.div)*self.dt-self.d)/(self.u-self.d)\n",
    "        self.qd=1-self.qu\n",
    "    def init_stock_price_tree(self):\n",
    "        self.STs=np.zeros(self.M)\n",
    "        for i in range(self.M):\n",
    "            self.STs[i]=self.S0*(self.u**(self.N-i))*(self.d**i)\n",
    "    def init_payoffs_tree(self):\n",
    "        if self.is_call:\n",
    "            return np.maximum(0,self.STs-self.K)\n",
    "        else:\n",
    "            return np.maximum(0,self.K-self.STs)\n",
    "    def traverse_tree(self,payoffs):\n",
    "        for i in range(self.N):\n",
    "            payoffs=(payoffs[:-1]*self.qu+payoffs[1:]*self.qd)*self.df # final stage\n",
    "        return payoffs\n",
    "    def begin_tree_traversal(self):\n",
    "        payoffs=self.init_payoffs_tree()\n",
    "        return self.traverse_tree(payoffs)\n",
    "    def price(self):\n",
    "        self.setup_parameters()\n",
    "        self.init_stock_price_tree()\n",
    "        payoffs=self.begin_tree_traversal()\n",
    "        return payoffs[0]"
   ]
  },
  {
   "cell_type": "code",
   "execution_count": 39,
   "metadata": {},
   "outputs": [
    {
     "name": "stdout",
     "output_type": "stream",
     "text": [
      "EO put option price is: 4.1926542806038585\n"
     ]
    }
   ],
   "source": [
    "eu_option=BinominalEuropeanOption(50,52,r=0.05,T=2,N=2,pu=0.2,pd=0.2,is_put=True)\n",
    "print('EO put option price is:',eu_option.price())"
   ]
  },
  {
   "cell_type": "markdown",
   "metadata": {},
   "source": [
    "## American Binomal Tree"
   ]
  },
  {
   "cell_type": "code",
   "execution_count": 40,
   "metadata": {},
   "outputs": [],
   "source": [
    "# M parameter is not needed"
   ]
  },
  {
   "cell_type": "code",
   "execution_count": 41,
   "metadata": {},
   "outputs": [],
   "source": [
    "class BinomialTreeOption(StockOption): # create a new class name\n",
    "    def setup_parameters(self):\n",
    "        # required calculations for the model\n",
    "        self.u=1+self.pu\n",
    "        self.d=1-self.pd\n",
    "        self.qu=(math.exp(self.r-self.div)*self.dt-self.d)/(self.u-self.d)\n",
    "        self.qd=1-self.qu\n",
    "    def init_stock_price_tree(self):\n",
    "        # create a 2D tree at T=0 to store returns of each step\n",
    "        self.STs=[np.array([self.S0])]\n",
    "        for i in range(self.N):\n",
    "            prev_branches=self.STs[-1]\n",
    "            st=np.concatenate((prev_branches*self.u,[prev_branches[-1]*self.d]))\n",
    "            self.STs.append(st)\n",
    "    def init_payoffs_tree(self):\n",
    "        # calculate intrinsic value in each stage, add[self.N]\n",
    "        if self.is_call:\n",
    "            return np.maximum(0,self.STs[self.N]-self.K)\n",
    "        else:\n",
    "            return np.maximum(0,self.K-self.STs[self.N])\n",
    "    # create a new function to check early excerise\n",
    "    def check_early_excerise(self,payoffs,node):\n",
    "        if self.is_call:\n",
    "            return np.maximum(payoffs,self.STs[node]-self.K)\n",
    "        else:\n",
    "            return np.maximum(payoffs,self.K-self.STs[node])\n",
    "    def traverse_tree(self,payoffs): # should include function: check_early_excerise()\n",
    "        for i in reversed(range(self.N)): # reversed: start from final stage\n",
    "            payoffs=(payoffs[:-1]*self.qu+payoffs[1:]*self.qd)*self.df # of not excerising\n",
    "            if not self.is_european:\n",
    "                payoffs=self.check_early_excerise(payoffs,i) # for excerising, American\n",
    "        return payoffs\n",
    "    def begin_tree_traversal(self):\n",
    "        payoffs=self.init_payoffs_tree()\n",
    "        return self.traverse_tree(payoffs)\n",
    "    def price(self):\n",
    "        self.setup_parameters()\n",
    "        self.init_stock_price_tree()\n",
    "        payoffs=self.begin_tree_traversal()\n",
    "        return payoffs[0]"
   ]
  },
  {
   "cell_type": "code",
   "execution_count": 42,
   "metadata": {},
   "outputs": [
    {
     "name": "stdout",
     "output_type": "stream",
     "text": [
      "American put option price is: 5.089632474198373\n"
     ]
    }
   ],
   "source": [
    "am_option=BinomialTreeOption(50,52,r=0.05,T=2,N=2,pu=0.2,pd=0.2,is_put=True,is_am=True)\n",
    "print('American put option price is:',am_option.price())"
   ]
  },
  {
   "cell_type": "markdown",
   "metadata": {},
   "source": [
    "## CRR Binomial Tree"
   ]
  },
  {
   "cell_type": "code",
   "execution_count": 43,
   "metadata": {},
   "outputs": [],
   "source": [
    "# change the u and d, the rest is the same with binomial tree model\n",
    "class BinomialCRROption(BinomialTreeOption):\n",
    "    def setup_parameters(self):\n",
    "        self.u=math.exp(self.sigma*math.sqrt(self.dt))\n",
    "        self.d=1/self.u\n",
    "        self.qu=(math.exp((self.r-self.div)*self.dt)-self.d)/(self.u-self.d)\n",
    "        self.qd=1-self.qu"
   ]
  },
  {
   "cell_type": "code",
   "execution_count": 44,
   "metadata": {},
   "outputs": [
    {
     "name": "stdout",
     "output_type": "stream",
     "text": [
      "EU put: 6.245708445206436\n"
     ]
    }
   ],
   "source": [
    "eu_option=BinomialCRROption(50,52,r=0.05,T=2,N=2,sigma=0.3,is_put=True)\n",
    "print('EU put:',eu_option.price())"
   ]
  },
  {
   "cell_type": "code",
   "execution_count": 45,
   "metadata": {},
   "outputs": [
    {
     "name": "stdout",
     "output_type": "stream",
     "text": [
      "American put: 7.428401902704834\n"
     ]
    }
   ],
   "source": [
    "am_option=BinomialCRROption(50,52,r=0.05,T=2,N=2,sigma=0.3,is_put=True, is_am=True)\n",
    "print('American put:',am_option.price())"
   ]
  },
  {
   "cell_type": "markdown",
   "metadata": {},
   "source": [
    "## LR Binomial Tree"
   ]
  },
  {
   "cell_type": "code",
   "execution_count": 46,
   "metadata": {},
   "outputs": [],
   "source": [
    "class BinomialLROption(BinomialTreeOption):\n",
    "    def setup_parameters(self):\n",
    "        odd_N=self.N if (self.N%2==0) else (self.N+1)\n",
    "        d1=(math.log(self.S0/self.K)+((self.r-self.div)+(self.sigma**2)/2)*self.T)/(self.sigma*math.sqrt(self.T))\n",
    "        d2=(math.log(self.S0/self.K)-((self.r-self.div)+(self.sigma**2)/2)*self.T)/(self.sigma*math.sqrt(self.T))\n",
    "        pbar=self.pp_2_inversion(d1,odd_N)\n",
    "        self.p=self.pp_2_inversion(d2,odd_N)\n",
    "        self.u=1/self.df*pbar/self.p\n",
    "        self.d=(1/self.df)*(1-pbar)/(1-self.p)\n",
    "        self.qu=self.p\n",
    "        self.qd=1-self.p\n",
    "    def pp_2_inversion(self,z,n):\n",
    "        return 0.5+math.copysign(1,z)*math.sqrt(0.25-0.25*math.exp(-((z/(n+(1/3)+0.1/(n+1)))**2)*(n+(1/6))))"
   ]
  },
  {
   "cell_type": "code",
   "execution_count": 47,
   "metadata": {},
   "outputs": [
    {
     "name": "stdout",
     "output_type": "stream",
     "text": [
      "EU put: 14.399949438594852\n"
     ]
    }
   ],
   "source": [
    "eu_option=BinomialLROption(50,52,r=0.05,T=2,N=4,sigma=0.3,is_put=True)\n",
    "print('EU put:',eu_option.price())"
   ]
  },
  {
   "cell_type": "code",
   "execution_count": 48,
   "metadata": {},
   "outputs": [
    {
     "name": "stdout",
     "output_type": "stream",
     "text": [
      "American put: 14.971574642640627\n"
     ]
    }
   ],
   "source": [
    "am_option=BinomialLROption(50,52,r=0.05,T=2,N=4,sigma=0.3,is_put=True, is_am=True)\n",
    "print('American put:',am_option.price())"
   ]
  },
  {
   "cell_type": "markdown",
   "metadata": {},
   "source": [
    "## Greeks with LR Binomial Tree"
   ]
  },
  {
   "cell_type": "code",
   "execution_count": 62,
   "metadata": {},
   "outputs": [],
   "source": [
    "class BinomialLRWithGreeks(BinomialLROption):\n",
    "    def new_stock_price_tree(self):\n",
    "        self.STs=[np.array([self.S0*self.u/self.d,self.S0,self.S0*self.d/self.u])]\n",
    "        for i in range(self.N):\n",
    "            prev_branches=self.STs[-1]\n",
    "            st=np.concatenate((prev_branches*self.u,[prev_branches[-1]*self.d]))\n",
    "            self.STs.append(st)\n",
    "    def price(self):\n",
    "        self.setup_parameters()\n",
    "        self.new_stock_price_tree()\n",
    "        payoffs=self.begin_tree_traversal()\n",
    "        option_value=payoffs[len(payoffs)//2]\n",
    "        payoff_up=payoffs[0]\n",
    "        payoff_down=payoffs[-1]\n",
    "        S_up=self.STs[0][0]\n",
    "        S_down=self.STs[0][-1]\n",
    "        dS_up=S_up-self.S0\n",
    "        dS_down=self.S0-S_down\n",
    "        # delta\n",
    "        ds=S_up-S_down\n",
    "        dV=payoff_up-payoff_down\n",
    "        delta=dV/ds\n",
    "        # gamma\n",
    "        gamma=((payoff_up-option_value)/dS_up-(option_value-payoff_down)/dS_down)/(((self.S0+S_up)/2)-((self.S0+S_down)/2))\n",
    "        return option_value,delta,gamma"
   ]
  },
  {
   "cell_type": "code",
   "execution_count": 68,
   "metadata": {},
   "outputs": [
    {
     "name": "stdout",
     "output_type": "stream",
     "text": [
      "EU call\n",
      "Price: 18.28542226834646\n",
      "Delta: 0.6978850971357399\n",
      "Gamma: 0.0077717215740361\n"
     ]
    }
   ],
   "source": [
    "eu_call=BinomialLRWithGreeks(50,52,r=0.05,T=2,N=300,sigma=0.3)\n",
    "results=eu_call.price()\n",
    "print('EU call')\n",
    "print('Price: %s\\nDelta: %s\\nGamma: %s' % results)"
   ]
  },
  {
   "cell_type": "code",
   "execution_count": 69,
   "metadata": {},
   "outputs": [
    {
     "name": "stdout",
     "output_type": "stream",
     "text": [
      "EU put\n",
      "Price: 15.336968006216377\n",
      "Delta: -0.3021149028642461\n",
      "Gamma: 0.007771721574036346\n"
     ]
    }
   ],
   "source": [
    "eu_put=BinomialLRWithGreeks(50,52,r=0.05,T=2,N=300,sigma=0.3,is_put=True)\n",
    "results=eu_put.price()\n",
    "print('EU put')\n",
    "print('Price: %s\\nDelta: %s\\nGamma: %s' % results)"
   ]
  }
 ],
 "metadata": {
  "kernelspec": {
   "display_name": "Python 3",
   "language": "python",
   "name": "python3"
  },
  "language_info": {
   "codemirror_mode": {
    "name": "ipython",
    "version": 3
   },
   "file_extension": ".py",
   "mimetype": "text/x-python",
   "name": "python",
   "nbconvert_exporter": "python",
   "pygments_lexer": "ipython3",
   "version": "3.8.5"
  }
 },
 "nbformat": 4,
 "nbformat_minor": 4
}

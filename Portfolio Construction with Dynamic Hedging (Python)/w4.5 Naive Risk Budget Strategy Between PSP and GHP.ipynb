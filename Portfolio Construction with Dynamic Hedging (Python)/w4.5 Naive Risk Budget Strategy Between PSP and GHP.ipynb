{
 "cells": [
  {
   "cell_type": "code",
   "execution_count": 25,
   "metadata": {},
   "outputs": [
    {
     "name": "stdout",
     "output_type": "stream",
     "text": [
      "The autoreload extension is already loaded. To reload it, use:\n",
      "  %reload_ext autoreload\n"
     ]
    }
   ],
   "source": [
    "%load_ext autoreload\n",
    "%autoreload 2\n",
    "%matplotlib inline\n",
    "import pandas as pd\n",
    "import numpy as np\n",
    "import edhec_risk_kit as erk"
   ]
  },
  {
   "cell_type": "code",
   "execution_count": 3,
   "metadata": {},
   "outputs": [],
   "source": [
    "# define a backtest by allocation between two assets,# keyword argument, accept any argument/parameter you input\n",
    "def bt_mix(r1,r2,allocator,**kwargs):\n",
    "    \"\"\"r1,r2 are T*N dataframes returns, T is time step, N is # of scenarios,\n",
    "    allocation to the 1st portfolio return a T*1 dataframe\n",
    "    return a T*N dataframe for N scenarios\"\"\"\n",
    "    if not r1.shape==r2.shape:\n",
    "        raise ValueError('r1, r2 need to be the same shape')\n",
    "    weights=allocator(r1,r2,**kwargs)\n",
    "    if not weights.shape==r1.shape:\n",
    "        raise ValueError('allocator weights and r1 and r2 need to be the same')\n",
    "    r_mix=weights*r1+(1-weights)*r2\n",
    "    return r_mix"
   ]
  },
  {
   "cell_type": "code",
   "execution_count": 4,
   "metadata": {},
   "outputs": [],
   "source": [
    "def fixedmix_allocator(r1,r2,w1,**kwargs):\n",
    "    \"\"\"produce a time series over T steps of allocation between PSP and GHP across N scenarios\n",
    "       row is price of time step, column is scenario\n",
    "       return T*N dataframe of PSP weights\"\"\"\n",
    "    return pd.DataFrame(data=w1,index=r1.index,columns=r1.columns)"
   ]
  },
  {
   "cell_type": "code",
   "execution_count": 7,
   "metadata": {},
   "outputs": [
    {
     "data": {
      "text/html": [
       "<div>\n",
       "<style scoped>\n",
       "    .dataframe tbody tr th:only-of-type {\n",
       "        vertical-align: middle;\n",
       "    }\n",
       "\n",
       "    .dataframe tbody tr th {\n",
       "        vertical-align: top;\n",
       "    }\n",
       "\n",
       "    .dataframe thead th {\n",
       "        text-align: right;\n",
       "    }\n",
       "</style>\n",
       "<table border=\"1\" class=\"dataframe\">\n",
       "  <thead>\n",
       "    <tr style=\"text-align: right;\">\n",
       "      <th></th>\n",
       "      <th>annualized return</th>\n",
       "      <th>annualized vol</th>\n",
       "      <th>skewness</th>\n",
       "      <th>kurtosis</th>\n",
       "      <th>cornish-fisher var 5%</th>\n",
       "      <th>historic cvar 5%</th>\n",
       "      <th>sharpe ratio</th>\n",
       "      <th>max drawdown</th>\n",
       "    </tr>\n",
       "  </thead>\n",
       "  <tbody>\n",
       "    <tr>\n",
       "      <th>0</th>\n",
       "      <td>0.035812</td>\n",
       "      <td>0.003539</td>\n",
       "      <td>-0.316884</td>\n",
       "      <td>3.406567</td>\n",
       "      <td>-0.001182</td>\n",
       "      <td>-0.000656</td>\n",
       "      <td>1.598457</td>\n",
       "      <td>-0.000463</td>\n",
       "    </tr>\n",
       "  </tbody>\n",
       "</table>\n",
       "</div>"
      ],
      "text/plain": [
       "   annualized return  annualized vol  skewness  kurtosis  \\\n",
       "0           0.035812        0.003539 -0.316884  3.406567   \n",
       "\n",
       "   cornish-fisher var 5%  historic cvar 5%  sharpe ratio  max drawdown  \n",
       "0              -0.001182         -0.000656      1.598457     -0.000463  "
      ]
     },
     "execution_count": 7,
     "metadata": {},
     "output_type": "execute_result"
    }
   ],
   "source": [
    "rates,zc_prices=erk.cir(10,500,b=0.03,r_0=0.03)\n",
    "price_10=erk.bond_price(10,100,0.05,12,rates)\n",
    "price_30=erk.bond_price(30,100,0.05,12,rates)\n",
    "rets_30=erk.bond_total_return(price_30,100,0.05,12)\n",
    "rets_10=erk.bond_total_return(price_10,100,0.05,12)\n",
    "rets_bonds=erk.bt_mix(rets_10,rets_30,allocator=erk.fixedmix_allocator,w1=0.6)\n",
    "mean_rets_bonds=rets_bonds.mean(axis='columns')\n",
    "erk.summary_stats(pd.DataFrame(mean_rets_bonds))"
   ]
  },
  {
   "cell_type": "code",
   "execution_count": 8,
   "metadata": {},
   "outputs": [],
   "source": [
    "price_eq=erk.gbm(10,500,0.07,0.15)\n",
    "rets_eq=price_eq.pct_change().dropna()\n",
    "rets_zc=zc_prices.pct_change().dropna() # we can do pct change to zc bond because it does't has coupon"
   ]
  },
  {
   "cell_type": "code",
   "execution_count": 9,
   "metadata": {},
   "outputs": [
    {
     "data": {
      "text/html": [
       "<div>\n",
       "<style scoped>\n",
       "    .dataframe tbody tr th:only-of-type {\n",
       "        vertical-align: middle;\n",
       "    }\n",
       "\n",
       "    .dataframe tbody tr th {\n",
       "        vertical-align: top;\n",
       "    }\n",
       "\n",
       "    .dataframe thead th {\n",
       "        text-align: right;\n",
       "    }\n",
       "</style>\n",
       "<table border=\"1\" class=\"dataframe\">\n",
       "  <thead>\n",
       "    <tr style=\"text-align: right;\">\n",
       "      <th></th>\n",
       "      <th>annualized return</th>\n",
       "      <th>annualized vol</th>\n",
       "      <th>skewness</th>\n",
       "      <th>kurtosis</th>\n",
       "      <th>cornish-fisher var 5%</th>\n",
       "      <th>historic cvar 5%</th>\n",
       "      <th>sharpe ratio</th>\n",
       "      <th>max drawdown</th>\n",
       "    </tr>\n",
       "  </thead>\n",
       "  <tbody>\n",
       "    <tr>\n",
       "      <th>0</th>\n",
       "      <td>0.059169</td>\n",
       "      <td>0.005576</td>\n",
       "      <td>-0.051973</td>\n",
       "      <td>2.834136</td>\n",
       "      <td>-0.002138</td>\n",
       "      <td>-0.00145</td>\n",
       "      <td>5.091661</td>\n",
       "      <td>0.0</td>\n",
       "    </tr>\n",
       "  </tbody>\n",
       "</table>\n",
       "</div>"
      ],
      "text/plain": [
       "   annualized return  annualized vol  skewness  kurtosis  \\\n",
       "0           0.059169        0.005576 -0.051973  2.834136   \n",
       "\n",
       "   cornish-fisher var 5%  historic cvar 5%  sharpe ratio  max drawdown  \n",
       "0              -0.002138          -0.00145      5.091661           0.0  "
      ]
     },
     "execution_count": 9,
     "metadata": {},
     "output_type": "execute_result"
    }
   ],
   "source": [
    "rets_7030b=erk.bt_mix(rets_eq,rets_bonds,allocator=erk.fixedmix_allocator,w1=0.7)\n",
    "rets_7030b_mean=rets_7030b.mean(axis=1)\n",
    "erk.summary_stats(pd.DataFrame(rets_7030b_mean))                                  "
   ]
  },
  {
   "cell_type": "code",
   "execution_count": 10,
   "metadata": {},
   "outputs": [],
   "source": [
    "# the more you put in PSP, the more your return"
   ]
  },
  {
   "cell_type": "code",
   "execution_count": 11,
   "metadata": {},
   "outputs": [],
   "source": [
    "summaries=erk.summary_stats(pd.DataFrame(rets_7030b))\n",
    "# run summary on 500 scenarios, then average the stat [another way]"
   ]
  },
  {
   "cell_type": "code",
   "execution_count": 12,
   "metadata": {},
   "outputs": [
    {
     "data": {
      "text/html": [
       "<div>\n",
       "<style scoped>\n",
       "    .dataframe tbody tr th:only-of-type {\n",
       "        vertical-align: middle;\n",
       "    }\n",
       "\n",
       "    .dataframe tbody tr th {\n",
       "        vertical-align: top;\n",
       "    }\n",
       "\n",
       "    .dataframe thead th {\n",
       "        text-align: right;\n",
       "    }\n",
       "</style>\n",
       "<table border=\"1\" class=\"dataframe\">\n",
       "  <thead>\n",
       "    <tr style=\"text-align: right;\">\n",
       "      <th></th>\n",
       "      <th>annualized return</th>\n",
       "      <th>annualized vol</th>\n",
       "      <th>skewness</th>\n",
       "      <th>kurtosis</th>\n",
       "      <th>cornish-fisher var 5%</th>\n",
       "      <th>historic cvar 5%</th>\n",
       "      <th>sharpe ratio</th>\n",
       "      <th>max drawdown</th>\n",
       "    </tr>\n",
       "  </thead>\n",
       "  <tbody>\n",
       "    <tr>\n",
       "      <th>0</th>\n",
       "      <td>-0.019875</td>\n",
       "      <td>0.115374</td>\n",
       "      <td>-0.148448</td>\n",
       "      <td>2.966567</td>\n",
       "      <td>0.057081</td>\n",
       "      <td>0.069784</td>\n",
       "      <td>-0.420851</td>\n",
       "      <td>-0.368453</td>\n",
       "    </tr>\n",
       "    <tr>\n",
       "      <th>1</th>\n",
       "      <td>0.083710</td>\n",
       "      <td>0.107900</td>\n",
       "      <td>-0.241266</td>\n",
       "      <td>2.883843</td>\n",
       "      <td>0.045984</td>\n",
       "      <td>0.060956</td>\n",
       "      <td>0.484355</td>\n",
       "      <td>-0.157988</td>\n",
       "    </tr>\n",
       "    <tr>\n",
       "      <th>2</th>\n",
       "      <td>0.055341</td>\n",
       "      <td>0.105904</td>\n",
       "      <td>-0.193602</td>\n",
       "      <td>2.446594</td>\n",
       "      <td>0.047108</td>\n",
       "      <td>0.057386</td>\n",
       "      <td>0.232756</td>\n",
       "      <td>-0.139837</td>\n",
       "    </tr>\n",
       "    <tr>\n",
       "      <th>3</th>\n",
       "      <td>0.048230</td>\n",
       "      <td>0.101163</td>\n",
       "      <td>-0.432408</td>\n",
       "      <td>3.246916</td>\n",
       "      <td>0.046804</td>\n",
       "      <td>0.066256</td>\n",
       "      <td>0.175265</td>\n",
       "      <td>-0.191120</td>\n",
       "    </tr>\n",
       "    <tr>\n",
       "      <th>4</th>\n",
       "      <td>0.115547</td>\n",
       "      <td>0.097623</td>\n",
       "      <td>-0.420338</td>\n",
       "      <td>3.121969</td>\n",
       "      <td>0.039804</td>\n",
       "      <td>0.058678</td>\n",
       "      <td>0.852824</td>\n",
       "      <td>-0.122371</td>\n",
       "    </tr>\n",
       "  </tbody>\n",
       "</table>\n",
       "</div>"
      ],
      "text/plain": [
       "   annualized return  annualized vol  skewness  kurtosis  \\\n",
       "0          -0.019875        0.115374 -0.148448  2.966567   \n",
       "1           0.083710        0.107900 -0.241266  2.883843   \n",
       "2           0.055341        0.105904 -0.193602  2.446594   \n",
       "3           0.048230        0.101163 -0.432408  3.246916   \n",
       "4           0.115547        0.097623 -0.420338  3.121969   \n",
       "\n",
       "   cornish-fisher var 5%  historic cvar 5%  sharpe ratio  max drawdown  \n",
       "0               0.057081          0.069784     -0.420851     -0.368453  \n",
       "1               0.045984          0.060956      0.484355     -0.157988  \n",
       "2               0.047108          0.057386      0.232756     -0.139837  \n",
       "3               0.046804          0.066256      0.175265     -0.191120  \n",
       "4               0.039804          0.058678      0.852824     -0.122371  "
      ]
     },
     "execution_count": 12,
     "metadata": {},
     "output_type": "execute_result"
    }
   ],
   "source": [
    "summaries.head()"
   ]
  },
  {
   "cell_type": "code",
   "execution_count": 13,
   "metadata": {},
   "outputs": [
    {
     "data": {
      "text/plain": [
       "annualized return        0.053732\n",
       "annualized vol           0.107056\n",
       "skewness                -0.005876\n",
       "kurtosis                 2.948234\n",
       "cornish-fisher var 5%    0.045885\n",
       "historic cvar 5%         0.058033\n",
       "sharpe ratio             0.217810\n",
       "max drawdown            -0.210020\n",
       "dtype: float64"
      ]
     },
     "execution_count": 13,
     "metadata": {},
     "output_type": "execute_result"
    }
   ],
   "source": [
    "summaries.mean()"
   ]
  },
  {
   "cell_type": "code",
   "execution_count": 14,
   "metadata": {},
   "outputs": [],
   "source": [
    "## we need to look at terminal value"
   ]
  },
  {
   "cell_type": "code",
   "execution_count": 16,
   "metadata": {},
   "outputs": [],
   "source": [
    "def terminal_values(rets):\n",
    "    \"\"\"return the final values of a dollar at the end of return period for wach scenario\"\"\"\n",
    "    return (rets+1).prod()"
   ]
  },
  {
   "cell_type": "code",
   "execution_count": 17,
   "metadata": {},
   "outputs": [
    {
     "data": {
      "text/html": [
       "<div>\n",
       "<style scoped>\n",
       "    .dataframe tbody tr th:only-of-type {\n",
       "        vertical-align: middle;\n",
       "    }\n",
       "\n",
       "    .dataframe tbody tr th {\n",
       "        vertical-align: top;\n",
       "    }\n",
       "\n",
       "    .dataframe thead th {\n",
       "        text-align: right;\n",
       "    }\n",
       "</style>\n",
       "<table border=\"1\" class=\"dataframe\">\n",
       "  <thead>\n",
       "    <tr style=\"text-align: right;\">\n",
       "      <th></th>\n",
       "      <th>FI</th>\n",
       "      <th>EQ</th>\n",
       "      <th>70/30</th>\n",
       "    </tr>\n",
       "  </thead>\n",
       "  <tbody>\n",
       "    <tr>\n",
       "      <th>mean</th>\n",
       "      <td>1.382807</td>\n",
       "      <td>1.956746</td>\n",
       "      <td>1.773702</td>\n",
       "    </tr>\n",
       "    <tr>\n",
       "      <th>std</th>\n",
       "      <td>0.116901</td>\n",
       "      <td>1.017079</td>\n",
       "      <td>0.619248</td>\n",
       "    </tr>\n",
       "    <tr>\n",
       "      <th>p_breach</th>\n",
       "      <td>NaN</td>\n",
       "      <td>0.048000</td>\n",
       "      <td>0.020000</td>\n",
       "    </tr>\n",
       "    <tr>\n",
       "      <th>p_reach</th>\n",
       "      <td>NaN</td>\n",
       "      <td>NaN</td>\n",
       "      <td>NaN</td>\n",
       "    </tr>\n",
       "    <tr>\n",
       "      <th>e_short</th>\n",
       "      <td>NaN</td>\n",
       "      <td>0.149218</td>\n",
       "      <td>0.060399</td>\n",
       "    </tr>\n",
       "    <tr>\n",
       "      <th>e_surplus</th>\n",
       "      <td>NaN</td>\n",
       "      <td>NaN</td>\n",
       "      <td>NaN</td>\n",
       "    </tr>\n",
       "  </tbody>\n",
       "</table>\n",
       "</div>"
      ],
      "text/plain": [
       "                 FI        EQ     70/30\n",
       "mean       1.382807  1.956746  1.773702\n",
       "std        0.116901  1.017079  0.619248\n",
       "p_breach        NaN  0.048000  0.020000\n",
       "p_reach         NaN       NaN       NaN\n",
       "e_short         NaN  0.149218  0.060399\n",
       "e_surplus       NaN       NaN       NaN"
      ]
     },
     "execution_count": 17,
     "metadata": {},
     "output_type": "execute_result"
    }
   ],
   "source": [
    "pd.concat([\n",
    "         erk.termianl_stats(rets_bonds,name='FI'),\n",
    "         erk.termianl_stats(rets_eq,name='EQ'),\n",
    "         erk.termianl_stats(rets_7030b,name='70/30')\n",
    "],axis=1)"
   ]
  },
  {
   "cell_type": "code",
   "execution_count": 18,
   "metadata": {},
   "outputs": [],
   "source": [
    "## seaborn - visualization"
   ]
  },
  {
   "cell_type": "code",
   "execution_count": 21,
   "metadata": {},
   "outputs": [
    {
     "name": "stderr",
     "output_type": "stream",
     "text": [
      "C:\\Users\\16469\\anaconda3\\lib\\site-packages\\seaborn\\distributions.py:2551: FutureWarning: `distplot` is a deprecated function and will be removed in a future version. Please adapt your code to use either `displot` (a figure-level function with similar flexibility) or `histplot` (an axes-level function for histograms).\n",
      "  warnings.warn(msg, FutureWarning)\n",
      "C:\\Users\\16469\\anaconda3\\lib\\site-packages\\seaborn\\distributions.py:2551: FutureWarning: `distplot` is a deprecated function and will be removed in a future version. Please adapt your code to use either `displot` (a figure-level function with similar flexibility) or `histplot` (an axes-level function for histograms).\n",
      "  warnings.warn(msg, FutureWarning)\n",
      "C:\\Users\\16469\\anaconda3\\lib\\site-packages\\seaborn\\distributions.py:2551: FutureWarning: `distplot` is a deprecated function and will be removed in a future version. Please adapt your code to use either `displot` (a figure-level function with similar flexibility) or `histplot` (an axes-level function for histograms).\n",
      "  warnings.warn(msg, FutureWarning)\n"
     ]
    },
    {
     "data": {
      "image/png": "[encoded data removed]",
      "text/plain": [
       "<Figure size 864x432 with 1 Axes>"
      ]
     },
     "metadata": {
      "needs_background": "light"
     },
     "output_type": "display_data"
    }
   ],
   "source": [
    "import seaborn as sns\n",
    "import matplotlib.pyplot as plt\n",
    "plt.figure(figsize=(12,6))\n",
    "sns.distplot(erk.terminal_values(rets_eq),color='red',label='100% equities')\n",
    "sns.distplot(erk.terminal_values(rets_bonds),color='blue',label='100% bonds')\n",
    "sns.distplot(erk.terminal_values(rets_7030b),color='orange',label='70/30 equities/bonds')\n",
    "plt.legend();"
   ]
  },
  {
   "cell_type": "markdown",
   "metadata": {},
   "source": [
    "### Glide path for allocation - target date fund style"
   ]
  },
  {
   "cell_type": "code",
   "execution_count": 23,
   "metadata": {},
   "outputs": [],
   "source": [
    "# as we move to maturity, allocate more to bond"
   ]
  },
  {
   "cell_type": "code",
   "execution_count": 24,
   "metadata": {},
   "outputs": [],
   "source": [
    "def glidepath_allocator(r1,r2,start_glide=1,end_glide=0):\n",
    "    \"\"\"simulate a target date fund style gradual move from r1 to r2\"\"\"\n",
    "    n_points=r1.shape[0]\n",
    "    n_col=r1.shape[1]\n",
    "    path=pd.Series(data=np.linspace(start_glide,end_glide,num=n_points))\n",
    "    paths=pd.concat([path]*n_col,axis=1)\n",
    "    paths.index=r1.index\n",
    "    paths.columns=r1.columns\n",
    "    return paths"
   ]
  },
  {
   "cell_type": "code",
   "execution_count": 27,
   "metadata": {},
   "outputs": [
    {
     "data": {
      "text/html": [
       "<div>\n",
       "<style scoped>\n",
       "    .dataframe tbody tr th:only-of-type {\n",
       "        vertical-align: middle;\n",
       "    }\n",
       "\n",
       "    .dataframe tbody tr th {\n",
       "        vertical-align: top;\n",
       "    }\n",
       "\n",
       "    .dataframe thead th {\n",
       "        text-align: right;\n",
       "    }\n",
       "</style>\n",
       "<table border=\"1\" class=\"dataframe\">\n",
       "  <thead>\n",
       "    <tr style=\"text-align: right;\">\n",
       "      <th></th>\n",
       "      <th>FI</th>\n",
       "      <th>EQ</th>\n",
       "      <th>70/30</th>\n",
       "      <th>glide 80 to 20</th>\n",
       "    </tr>\n",
       "  </thead>\n",
       "  <tbody>\n",
       "    <tr>\n",
       "      <th>mean</th>\n",
       "      <td>1.382807</td>\n",
       "      <td>1.956746</td>\n",
       "      <td>1.773702</td>\n",
       "      <td>1.672571</td>\n",
       "    </tr>\n",
       "    <tr>\n",
       "      <th>std</th>\n",
       "      <td>0.116901</td>\n",
       "      <td>1.017079</td>\n",
       "      <td>0.619248</td>\n",
       "      <td>0.452690</td>\n",
       "    </tr>\n",
       "    <tr>\n",
       "      <th>p_breach</th>\n",
       "      <td>NaN</td>\n",
       "      <td>0.048000</td>\n",
       "      <td>0.020000</td>\n",
       "      <td>0.002000</td>\n",
       "    </tr>\n",
       "    <tr>\n",
       "      <th>e_short</th>\n",
       "      <td>NaN</td>\n",
       "      <td>0.149218</td>\n",
       "      <td>0.060399</td>\n",
       "      <td>0.037069</td>\n",
       "    </tr>\n",
       "    <tr>\n",
       "      <th>p_reach</th>\n",
       "      <td>NaN</td>\n",
       "      <td>NaN</td>\n",
       "      <td>NaN</td>\n",
       "      <td>NaN</td>\n",
       "    </tr>\n",
       "    <tr>\n",
       "      <th>e_surplus</th>\n",
       "      <td>NaN</td>\n",
       "      <td>NaN</td>\n",
       "      <td>NaN</td>\n",
       "      <td>NaN</td>\n",
       "    </tr>\n",
       "  </tbody>\n",
       "</table>\n",
       "</div>"
      ],
      "text/plain": [
       "                 FI        EQ     70/30  glide 80 to 20\n",
       "mean       1.382807  1.956746  1.773702        1.672571\n",
       "std        0.116901  1.017079  0.619248        0.452690\n",
       "p_breach        NaN  0.048000  0.020000        0.002000\n",
       "e_short         NaN  0.149218  0.060399        0.037069\n",
       "p_reach         NaN       NaN       NaN             NaN\n",
       "e_surplus       NaN       NaN       NaN             NaN"
      ]
     },
     "execution_count": 27,
     "metadata": {},
     "output_type": "execute_result"
    }
   ],
   "source": [
    "rets_g8020=erk.bt_mix(rets_eq,rets_bonds,allocator=erk.glidepath_allocator,start_glide=0.8,end_glide=0.2)\n",
    "pd.concat([\n",
    "         erk.termianl_stats(rets_bonds,name='FI'),\n",
    "         erk.termianl_stats(rets_eq,name='EQ'),\n",
    "         erk.termianl_stats(rets_7030b,name='70/30'),\n",
    "         erk.termianl_stats(rets_g8020,name='glide 80 to 20')\n",
    "],axis=1)"
   ]
  },
  {
   "cell_type": "code",
   "execution_count": null,
   "metadata": {},
   "outputs": [],
   "source": []
  }
 ],
 "metadata": {
  "kernelspec": {
   "display_name": "Python 3",
   "language": "python",
   "name": "python3"
  },
  "language_info": {
   "codemirror_mode": {
    "name": "ipython",
    "version": 3
   },
   "file_extension": ".py",
   "mimetype": "text/x-python",
   "name": "python",
   "nbconvert_exporter": "python",
   "pygments_lexer": "ipython3",
   "version": "3.8.5"
  }
 },
 "nbformat": 4,
 "nbformat_minor": 4
}
